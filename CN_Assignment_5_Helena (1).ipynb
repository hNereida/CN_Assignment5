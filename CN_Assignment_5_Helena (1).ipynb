{
 "cells": [
  {
   "cell_type": "markdown",
   "id": "3b47b022",
   "metadata": {},
   "source": [
    "# Simple DBA Modeling and Implementation \n",
    "### Master in Telecommunications Engineering (MET) - Communication Networks (CN)\n",
    "#### Helena Calatrava, May 2021 (Assignment 5, due to 26/05/2021)"
   ]
  },
  {
   "cell_type": "code",
   "execution_count": 184,
   "id": "216fde38",
   "metadata": {},
   "outputs": [],
   "source": [
    "import numpy as np\n",
    "import pprint # To print dictionaries 'pretty'\n",
    "import math # for the ceil operation\n",
    "\n",
    "import matplotlib.pyplot as plt\n",
    "from matplotlib.patches import Rectangle # To plot the results\n",
    "\n",
    "from collections import OrderedDict # To order dictionaries fast"
   ]
  },
  {
   "cell_type": "markdown",
   "id": "b7e75317",
   "metadata": {},
   "source": [
    "### 1 - Demand from Keyboard\n",
    "##### The OLT receives the status of the ONUs\n",
    "\n",
    "The buffer occupancy reports contain the requested bit rate $R_{L}$ and the traffic contract of the Alloc-ID."
   ]
  },
  {
   "cell_type": "code",
   "execution_count": 195,
   "id": "f212f41c",
   "metadata": {},
   "outputs": [
    {
     "name": "stdout",
     "output_type": "stream",
     "text": [
      "{1: {'alloc_id': 1, 'bit_rate': 100000000.0, 'priority': 1},\n",
      " 2: {'alloc_id': 2, 'bit_rate': 100000000.0, 'priority': 1},\n",
      " 3: {'alloc_id': 3, 'bit_rate': 100000000.0, 'priority': 1},\n",
      " 4: {'alloc_id': 4, 'bit_rate': 100000000.0, 'priority': 1},\n",
      " 5: {'alloc_id': 5, 'bit_rate': 100000000.0, 'priority': 1},\n",
      " 6: {'alloc_id': 6, 'bit_rate': 100000000.0, 'priority': 1},\n",
      " 7: {'alloc_id': 7, 'bit_rate': 100000000.0, 'priority': 1},\n",
      " 8: {'alloc_id': 8, 'bit_rate': 100000000.0, 'priority': 1},\n",
      " 9: {'alloc_id': 9, 'bit_rate': 100000000.0, 'priority': 1},\n",
      " 10: {'alloc_id': 10, 'bit_rate': 100000000.0, 'priority': 1}}\n"
     ]
    }
   ],
   "source": [
    "# The ONUs send their activity status to the OLT\n",
    "# Each dictionary is order according to the time of request (the first one is the earliest request)\n",
    "# the 'bit_rate' key is linked to the value of the requested bit rate R_{L}\n",
    "# the 'alloc_id' key contains the Alloc-ID number\n",
    "# the 'priority' key contains the priority linked to the Alloc-ID's traffic contract type\n",
    "#the premium contract is linked to high priority (1)\n",
    "#the standard contract is linked to low priority (0)\n",
    "\n",
    "\n",
    "#DEMAND 1: EASY\n",
    "requests = {1: {'bit_rate': 5e6, 'priority' : 0, 'alloc_id' : 9},\n",
    "          2: {'bit_rate': 30e6, 'priority' : 1, 'alloc_id' : 15},\n",
    "          3: {'bit_rate': 15e6, 'priority' : 0, 'alloc_id' : 16},\n",
    "        4: {'bit_rate': 100e6, 'priority' : 1, 'alloc_id' : 444},\n",
    "          }\n",
    "\n",
    "\"\"\"\n",
    "\n",
    "#DEMAND 2: REGULAR\n",
    "requests = {1: {'bit_rate': 60e6, 'priority' : 0, 'alloc_id' : 53},\n",
    "          2: {'bit_rate': 50e6, 'priority' : 1, 'alloc_id' : 123},\n",
    "          3: {'bit_rate': 10e6, 'priority' : 0, 'alloc_id' : 124},\n",
    "        4: {'bit_rate': 60e6, 'priority' : 1, 'alloc_id' : 10},\n",
    "          }\n",
    "\n",
    "\n",
    "\n",
    "#DEMAND 3: INSANE\n",
    "requests = {1: {'bit_rate': 100e6, 'priority' : 1, 'alloc_id' : 1},\n",
    "          2: {'bit_rate': 100e6, 'priority' : 1, 'alloc_id' : 2},\n",
    "          3: {'bit_rate': 100e6, 'priority' : 1, 'alloc_id' : 3},\n",
    "        4: {'bit_rate': 100e6, 'priority' : 1, 'alloc_id' : 4},\n",
    "            5: {'bit_rate': 100e6, 'priority' : 1, 'alloc_id' : 5},\n",
    "            6: {'bit_rate': 100e6, 'priority' : 1, 'alloc_id' : 6},\n",
    "            7: {'bit_rate': 100e6, 'priority' : 1, 'alloc_id' : 7},\n",
    "            8: {'bit_rate': 100e6, 'priority' : 1, 'alloc_id' : 8},\n",
    "            9: {'bit_rate': 100e6, 'priority' : 1, 'alloc_id' : 9},\n",
    "            10: {'bit_rate': 100e6, 'priority' : 1, 'alloc_id' : 10}\n",
    "            \n",
    "          }\n",
    "\n",
    "\"\"\"\n",
    "\n",
    "# Print Results of this Step\n",
    "pprint.pprint(requests)"
   ]
  },
  {
   "cell_type": "markdown",
   "id": "d7a5dd52",
   "metadata": {},
   "source": [
    "##### The traffic load offered by each Alloc-ID is calculated with the information in the demand"
   ]
  },
  {
   "cell_type": "markdown",
   "id": "da98445d",
   "metadata": {},
   "source": [
    "### 2 - The DBA calculates the allocation"
   ]
  },
  {
   "cell_type": "markdown",
   "id": "ac03cdb9",
   "metadata": {},
   "source": [
    "##### 2.1 - Sort the Requests"
   ]
  },
  {
   "cell_type": "code",
   "execution_count": 196,
   "id": "5d717116",
   "metadata": {},
   "outputs": [
    {
     "name": "stdout",
     "output_type": "stream",
     "text": [
      "**** SORTED REQUESTS ****\n",
      "OrderedDict([(1, {'alloc_id': 1, 'bit_rate': 100000000.0, 'priority': 1}),\n",
      "             (2, {'alloc_id': 2, 'bit_rate': 100000000.0, 'priority': 1}),\n",
      "             (3, {'alloc_id': 3, 'bit_rate': 100000000.0, 'priority': 1}),\n",
      "             (4, {'alloc_id': 4, 'bit_rate': 100000000.0, 'priority': 1}),\n",
      "             (5, {'alloc_id': 5, 'bit_rate': 100000000.0, 'priority': 1}),\n",
      "             (6, {'alloc_id': 6, 'bit_rate': 100000000.0, 'priority': 1}),\n",
      "             (7, {'alloc_id': 7, 'bit_rate': 100000000.0, 'priority': 1}),\n",
      "             (8, {'alloc_id': 8, 'bit_rate': 100000000.0, 'priority': 1}),\n",
      "             (9, {'alloc_id': 9, 'bit_rate': 100000000.0, 'priority': 1}),\n",
      "             (10, {'alloc_id': 10, 'bit_rate': 100000000.0, 'priority': 1})])\n"
     ]
    }
   ],
   "source": [
    "# Sort the requests per priority and time of request to get a prioritized sequence of Alloc-IDs\n",
    "# With the same contract type, requests will be sorted according to the \n",
    "#time of request (the earliest, the most priority)\n",
    "#It is assumed that the order of the requests in the demand dictionary corresponds to the order \n",
    "#according to the time of request\n",
    "sorted_requests = OrderedDict(sorted(requests.items(), key=lambda x: x[1]['priority'], reverse=True))\n",
    "\n",
    "# Print Results of this Step\n",
    "print(f'**** SORTED REQUESTS ****')\n",
    "pprint.pprint(sorted_requests)"
   ]
  },
  {
   "cell_type": "markdown",
   "id": "06790b3f",
   "metadata": {},
   "source": [
    "##### 2.2 - Fixed Bandwidth Allocation"
   ]
  },
  {
   "cell_type": "code",
   "execution_count": 197,
   "id": "1c4140d5",
   "metadata": {},
   "outputs": [
    {
     "name": "stdout",
     "output_type": "stream",
     "text": [
      "After the Fixed BW Allocation...\n",
      "\n",
      "\n",
      "**** CURRENT BANDWIDTH ALLOCATION DICTIONARY ****\n",
      "{0: {'alloc_id': 1, 'assigned_bw': 20000000.0},\n",
      " 1: {'alloc_id': 2, 'assigned_bw': 20000000.0},\n",
      " 2: {'alloc_id': 3, 'assigned_bw': 20000000.0},\n",
      " 3: {'alloc_id': 4, 'assigned_bw': 20000000.0},\n",
      " 4: {'alloc_id': 5, 'assigned_bw': 20000000.0},\n",
      " 5: {'alloc_id': 6, 'assigned_bw': 20000000.0},\n",
      " 6: {'alloc_id': 7, 'assigned_bw': 8000000.0},\n",
      " 7: {'alloc_id': 8, 'assigned_bw': 0},\n",
      " 8: {'alloc_id': 9, 'assigned_bw': 0},\n",
      " 9: {'alloc_id': 10, 'assigned_bw': 0}}\n",
      "\n",
      "\n",
      "**** CURRENT STATUS DICTIONARY ****\n",
      "REMEMBER THAT FINAL STATUS AT THIS STAGE IS TEMPORARY (It will be updated 2.3)\n",
      "{0: {'alloc_id': 1, 'status': 'REJECTION CASE STUDY 1: No More Available BW'},\n",
      " 1: {'alloc_id': 2, 'status': 'REJECTION CASE STUDY 1: No More Available BW'},\n",
      " 2: {'alloc_id': 3, 'status': 'REJECTION CASE STUDY 1: No More Available BW'},\n",
      " 3: {'alloc_id': 4, 'status': 'REJECTION CASE STUDY 1: No More Available BW'},\n",
      " 4: {'alloc_id': 5, 'status': 'REJECTION CASE STUDY 1: No More Available BW'},\n",
      " 5: {'alloc_id': 6, 'status': 'REJECTION CASE STUDY 1: No More Available BW'},\n",
      " 6: {'alloc_id': 7, 'status': 'REJECTION CASE STUDY 1: No More Available BW'},\n",
      " 7: {'alloc_id': 8, 'status': 'REJECTION CASE STUDY 1: No More Available BW'},\n",
      " 8: {'alloc_id': 9, 'status': 'REJECTION CASE STUDY 1: No More Available BW'},\n",
      " 9: {'alloc_id': 10, 'status': 'REJECTION CASE STUDY 1: No More Available BW'}}\n",
      "\n",
      "\n",
      "Remaining Uplink BW: 0\n"
     ]
    }
   ],
   "source": [
    "# Uplink Capacity\n",
    "# We have considered that the Upstream GTC frame is 2000 bytes long (instead of 19440) and is sent every 125 us\n",
    "#Therefore, the upstream bit rate is 128 Mbps instead of 1.24416 Gbps\n",
    "up_bw = 128e6\n",
    "frame_length = 125e-6 # in seconds\n",
    "n_bytes = 2000\n",
    "\n",
    "# Variables that will be needed to compute the Grant Map\n",
    "assigned_bw = dict()\n",
    "final_status = dict()\n",
    "\n",
    "dict_it = 0 # this variable is needed so that the dictionary keeps sorted as we want\n",
    "\n",
    "for i in sorted_requests:\n",
    "    request_i = sorted_requests[i]\n",
    "    R_L = request_i['bit_rate']\n",
    "    \n",
    "    # The assigned fixed BW depends on the traffic contract\n",
    "    if request_i['priority'] == 0: # Standard Contract\n",
    "        R_F = 6.5e6\n",
    "    else: # Premium Contract\n",
    "        R_F = 20e6\n",
    "    \n",
    "    # Initialize the output dictionaries (which will be required to compute the Grant Map)\n",
    "    assigned_bw[dict_it] = dict()\n",
    "    assigned_bw[dict_it]['alloc_id'] = request_i['alloc_id']\n",
    "    \n",
    "    final_status[dict_it] = dict()\n",
    "    final_status[dict_it]['alloc_id'] = request_i['alloc_id']\n",
    "    \n",
    "    # Check if the remaining uplink bw is enough to supply this fixed BW\n",
    "    if R_F < up_bw: # we have enough bw\n",
    "        assigned_bw[dict_it]['assigned_bw'] = R_F\n",
    "        up_bw = up_bw - R_F\n",
    "        \n",
    "        # We prepare the value of the final status just in case the bandwidth\n",
    "        #is exhausted when allocating the extra bandwidth and we still have not \n",
    "        #changed final_status[dict_i]\n",
    "        if R_L <= R_F: # this request has already been satisfied\n",
    "            final_status[dict_it]['status'] = 'SUCCESSFUL REQUEST'\n",
    "        else: #this request could be rejected so we prepare the status just in case\n",
    "            #if it is finally accepted, the status will be updated\n",
    "            final_status[dict_it]['status'] = 'REJECTION CASE STUDY 1: No More Available BW'\n",
    "            \n",
    "    else: # bw is exhausted in this iteration\n",
    "        assigned_bw[dict_it]['assigned_bw'] = up_bw\n",
    "        final_status[dict_it]['status'] = 'REJECTION CASE STUDY 1: No More Available BW'\n",
    "        up_bw = 0\n",
    "        \n",
    "    dict_it = dict_it + 1\n",
    "    \n",
    "# Print Results of this Step\n",
    "print(f'After the Fixed BW Allocation...')\n",
    "print('\\n')\n",
    "print(f'**** CURRENT BANDWIDTH ALLOCATION DICTIONARY ****')\n",
    "pprint.pprint(assigned_bw) \n",
    "print('\\n')\n",
    "print(f'**** CURRENT STATUS DICTIONARY ****')\n",
    "print(f'REMEMBER THAT FINAL STATUS AT THIS STAGE IS TEMPORARY (It will be updated 2.3)')\n",
    "pprint.pprint(final_status)\n",
    "print('\\n')\n",
    "print(f'Remaining Uplink BW: {up_bw}')\n",
    "    \n"
   ]
  },
  {
   "cell_type": "markdown",
   "id": "43056bc1",
   "metadata": {},
   "source": [
    "##### 2.3 - Extra Bandwidth Allocation"
   ]
  },
  {
   "cell_type": "code",
   "execution_count": 198,
   "id": "8bedefa2",
   "metadata": {},
   "outputs": [
    {
     "name": "stdout",
     "output_type": "stream",
     "text": [
      "After the Extra BW Allocation...\n",
      "\n",
      "\n",
      "**** FINAL BANDWIDTH ALLOCATION DICTIONARY ****\n",
      "{0: {'alloc_id': 1, 'assigned_bw': 20000000.0},\n",
      " 1: {'alloc_id': 2, 'assigned_bw': 20000000.0},\n",
      " 2: {'alloc_id': 3, 'assigned_bw': 20000000.0},\n",
      " 3: {'alloc_id': 4, 'assigned_bw': 20000000.0},\n",
      " 4: {'alloc_id': 5, 'assigned_bw': 20000000.0},\n",
      " 5: {'alloc_id': 6, 'assigned_bw': 20000000.0},\n",
      " 6: {'alloc_id': 7, 'assigned_bw': 8000000.0},\n",
      " 7: {'alloc_id': 8, 'assigned_bw': 0},\n",
      " 8: {'alloc_id': 9, 'assigned_bw': 0},\n",
      " 9: {'alloc_id': 10, 'assigned_bw': 0}}\n",
      "\n",
      "\n",
      "**** FINAL STATUS DICTIONARY ****\n",
      "{0: {'alloc_id': 1, 'status': 'REJECTION CASE STUDY 1: No More Available BW'},\n",
      " 1: {'alloc_id': 2, 'status': 'REJECTION CASE STUDY 1: No More Available BW'},\n",
      " 2: {'alloc_id': 3, 'status': 'REJECTION CASE STUDY 1: No More Available BW'},\n",
      " 3: {'alloc_id': 4, 'status': 'REJECTION CASE STUDY 1: No More Available BW'},\n",
      " 4: {'alloc_id': 5, 'status': 'REJECTION CASE STUDY 1: No More Available BW'},\n",
      " 5: {'alloc_id': 6, 'status': 'REJECTION CASE STUDY 1: No More Available BW'},\n",
      " 6: {'alloc_id': 7, 'status': 'REJECTION CASE STUDY 1: No More Available BW'},\n",
      " 7: {'alloc_id': 8, 'status': 'REJECTION CASE STUDY 1: No More Available BW'},\n",
      " 8: {'alloc_id': 9, 'status': 'REJECTION CASE STUDY 1: No More Available BW'},\n",
      " 9: {'alloc_id': 10, 'status': 'REJECTION CASE STUDY 1: No More Available BW'}}\n",
      "\n",
      "\n",
      "Remaining Uplink BW: 0\n"
     ]
    }
   ],
   "source": [
    "if up_bw > 0:\n",
    "    dict_it = 0 # this variable is needed so that the dictionary keeps sorted as we want\n",
    "\n",
    "    for i in sorted_requests:\n",
    "        request_i = sorted_requests[i]\n",
    "        R_L = request_i['bit_rate']\n",
    "        \n",
    "        # The assigned fixed BW depends on the traffic contract\n",
    "        if request_i['priority'] == 0: # Standard Contract\n",
    "            R_F = 6.5e6\n",
    "            R_M = 15e6\n",
    "        else: # Premium Contract\n",
    "            R_F = 20e6\n",
    "            R_M = 60e6\n",
    "                \n",
    "                \n",
    "        if R_L > R_F: # extra BW has been requested\n",
    "\n",
    "            # Check if the remaining uplink bw is enough to supply the extra BW\n",
    "            R_E = np.minimum(R_M, R_L) - R_F\n",
    "            if R_E < up_bw: # we have enough bw\n",
    "\n",
    "                assigned_bw[dict_it]['assigned_bw'] = np.minimum(R_M, R_L)\n",
    "                up_bw = up_bw - R_E # R_F has already been subtracted\n",
    "\n",
    "                # Update the final status for this Alloc-ID\n",
    "                if R_L <= R_M: # this request has been satisfied\n",
    "                    final_status[dict_it]['status'] = 'SUCCESSFUL REQUEST'\n",
    "                else: #The maximum BW has been allocated to this user, but the request was exceeding\n",
    "                    #the offered traffic load (contract)\n",
    "                    final_status[dict_it]['status'] = 'REJECTION CASE STUDY 2: MISMATCHING REQUEST'\n",
    "\n",
    "            else: # bw is exhausted in this iteration   \n",
    "                \n",
    "                assigned_bw[dict_it]['assigned_bw'] = assigned_bw[dict_it]['assigned_bw'] + up_bw\n",
    "                final_status[dict_it]['status'] = 'REJECTION CASE STUDY 1: No More Available BW'\n",
    "                up_bw = 0\n",
    "            dict_it = dict_it + 1\n",
    "            \n",
    "        else: # no extra BW has been requested\n",
    "            dict_it = dict_it + 1\n",
    "            \n",
    "# Print Results of this Step\n",
    "print(f'After the Extra BW Allocation...')\n",
    "print('\\n')\n",
    "print(f'**** FINAL BANDWIDTH ALLOCATION DICTIONARY ****')\n",
    "pprint.pprint(assigned_bw) \n",
    "print('\\n')\n",
    "print(f'**** FINAL STATUS DICTIONARY ****')\n",
    "pprint.pprint(final_status)\n",
    "print('\\n')\n",
    "print(f'Remaining Uplink BW: {up_bw}')\n",
    "        "
   ]
  },
  {
   "cell_type": "markdown",
   "id": "2e5c1bf5",
   "metadata": {},
   "source": [
    "### 3  - The Grant Map is computed"
   ]
  },
  {
   "cell_type": "code",
   "execution_count": 199,
   "id": "54b7189a",
   "metadata": {},
   "outputs": [
    {
     "name": "stdout",
     "output_type": "stream",
     "text": [
      "**** GRANT MAP ****\n",
      "{0: {'alloc_id': 1, 'start_byte': 0, 'stop_byte': 313},\n",
      " 1: {'alloc_id': 2, 'start_byte': 314, 'stop_byte': 627},\n",
      " 2: {'alloc_id': 3, 'start_byte': 628, 'stop_byte': 941},\n",
      " 3: {'alloc_id': 4, 'start_byte': 942, 'stop_byte': 1255},\n",
      " 4: {'alloc_id': 5, 'start_byte': 1256, 'stop_byte': 1569},\n",
      " 5: {'alloc_id': 6, 'start_byte': 1570, 'stop_byte': 1883},\n",
      " 6: {'alloc_id': 7, 'start_byte': 1884, 'stop_byte': 2000},\n",
      " 7: {'alloc_id': 8, 'start_byte': 2001, 'stop_byte': 2000},\n",
      " 8: {'alloc_id': 9, 'start_byte': 2001, 'stop_byte': 2000},\n",
      " 9: {'alloc_id': 10, 'start_byte': 2001, 'stop_byte': 2000}}\n",
      "\n",
      "\n",
      "**** FINAL STATUS DICTIONARY ****\n",
      "{0: {'alloc_id': 1, 'status': 'REJECTION CASE STUDY 1: No More Available BW'},\n",
      " 1: {'alloc_id': 2, 'status': 'REJECTION CASE STUDY 1: No More Available BW'},\n",
      " 2: {'alloc_id': 3, 'status': 'REJECTION CASE STUDY 1: No More Available BW'},\n",
      " 3: {'alloc_id': 4, 'status': 'REJECTION CASE STUDY 1: No More Available BW'},\n",
      " 4: {'alloc_id': 5, 'status': 'REJECTION CASE STUDY 1: No More Available BW'},\n",
      " 5: {'alloc_id': 6, 'status': 'REJECTION CASE STUDY 1: No More Available BW'},\n",
      " 6: {'alloc_id': 7, 'status': 'REJECTION CASE STUDY 1: No More Available BW'},\n",
      " 7: {'alloc_id': 8, 'status': 'REJECTION CASE STUDY 1: No More Available BW'},\n",
      " 8: {'alloc_id': 9, 'status': 'REJECTION CASE STUDY 1: No More Available BW'},\n",
      " 9: {'alloc_id': 10, 'status': 'REJECTION CASE STUDY 1: No More Available BW'}}\n"
     ]
    },
    {
     "data": {
      "image/png": "[encoded data removed]",
      "text/plain": [
       "<Figure size 432x288 with 1 Axes>"
      ]
     },
     "metadata": {
      "needs_background": "light"
     },
     "output_type": "display_data"
    }
   ],
   "source": [
    "# Variables that will be needed to compute the Grant Map\n",
    "grant_map= dict()\n",
    "\n",
    "dict_it = 0 # this variable is needed so that the dictionary keeps sorted as we want\n",
    "stop_time = -1 # in bytes\n",
    "\n",
    "# Plot variables\n",
    "fig, ax = plt.subplots()\n",
    "plt.xlim([0, n_bytes])\n",
    "plt.ylim([0, 10])\n",
    "plt.title('Upstream Allocated Bytes')\n",
    "plt.xlabel('Bytes (0 to 2000)')\n",
    "ax.text(0, 5, \"In blue color, the Alloc-ID associated to each packet\", fontsize=12, color='blue')\n",
    "color_dict = ['orange', 'green', 'yellow', 'cyan']\n",
    "\n",
    "for i in assigned_bw:\n",
    "    grant_i = assigned_bw[i]\n",
    "    \n",
    "    # Initialize the Grant Map\n",
    "    grant_map[dict_it] = dict()\n",
    "    grant_map[dict_it]['alloc_id'] = grant_i['alloc_id']\n",
    "    \n",
    "    # Calculate assigned number of bits\n",
    "    #in total (taking into account fixed and extra BW)\n",
    "    bytes_i = grant_i['assigned_bw'] * frame_length / 8 \n",
    "    bytes_i = math.ceil(bytes_i)\n",
    "    \n",
    "    # Update the start and stop time values\n",
    "    start_time = stop_time + 1\n",
    "    if start_time + bytes_i < n_bytes: \n",
    "        stop_time = start_time + bytes_i\n",
    "    else: # We will not be able to give all the allocated bytes (we do not consider the possibility to\n",
    "        #solve this for this assignment)\n",
    "        stop_time = n_bytes\n",
    "    grant_map[dict_it]['start_byte'] = start_time\n",
    "    grant_map[dict_it]['stop_byte'] = stop_time\n",
    "    \n",
    "    dict_it = dict_it + 1\n",
    "    \n",
    "    # Add the rectangle, which simulated the allocated upstream packet\n",
    "    ax.add_patch(Rectangle((start_time, 0), stop_time, 2, facecolor = color_dict[np.mod(dict_it,4)]))\n",
    "    ax.add_patch(Rectangle((stop_time, 0), n_bytes, 2, facecolor = 'white'))\n",
    "    ax.text(start_time, 2.5, grant_i['alloc_id'], fontsize=12, color='blue')\n",
    "\n",
    "# The new Grant Map is printed\n",
    "# Print Results of this Step\n",
    "print(f'**** GRANT MAP ****')\n",
    "pprint.pprint(grant_map)\n",
    "print('\\n')\n",
    "print(f'**** FINAL STATUS DICTIONARY ****')\n",
    "pprint.pprint(final_status)\n"
   ]
  },
  {
   "cell_type": "code",
   "execution_count": null,
   "id": "c5526653",
   "metadata": {},
   "outputs": [],
   "source": []
  }
 ],
 "metadata": {
  "kernelspec": {
   "display_name": "Python 3",
   "language": "python",
   "name": "python3"
  },
  "language_info": {
   "codemirror_mode": {
    "name": "ipython",
    "version": 3
   },
   "file_extension": ".py",
   "mimetype": "text/x-python",
   "name": "python",
   "nbconvert_exporter": "python",
   "pygments_lexer": "ipython3",
   "version": "3.8.5"
  }
 },
 "nbformat": 4,
 "nbformat_minor": 5
}
